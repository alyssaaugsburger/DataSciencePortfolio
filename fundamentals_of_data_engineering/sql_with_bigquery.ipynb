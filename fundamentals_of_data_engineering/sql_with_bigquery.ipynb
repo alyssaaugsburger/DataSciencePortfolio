{
 "cells": [
  {
   "cell_type": "markdown",
   "metadata": {},
   "source": [
    "## Using SQL with Google BigQuery\n",
    "This notebook is an example of executing SQL commands using BigQuery to analyze data and pandas and matplotlib to visualize data. \n"
   ]
  },
  {
   "cell_type": "markdown",
   "metadata": {},
   "source": [
    "This notebook uses the Bay Area Bikeshare public dataset that is housed in GCP to show how I might answer some hypothetical business questions. The static tables used from the \"san_francisco dataset\" are:\n",
    "- bikeshare_stations\n",
    "- bikeshare_status\n",
    "- bikeshare_trips"
   ]
  },
  {
   "cell_type": "code",
   "execution_count": 10,
   "metadata": {},
   "outputs": [],
   "source": [
    "#Import necessary libraries\n",
    "import pandas as pd\n",
    "import matplotlib.pyplot as plt"
   ]
  },
  {
   "cell_type": "markdown",
   "metadata": {},
   "source": [
    "### What are the 5 Most Popular Commuter Trips?"
   ]
  },
  {
   "cell_type": "code",
   "execution_count": 1,
   "metadata": {},
   "outputs": [],
   "source": [
    "%%bigquery popular_commuter_trips\n",
    "\n",
    "SELECT start_station_name, end_station_name, COUNT(*) as total_trips\n",
    "FROM `idyllic-analyst-264522.bikeshare_data.final_commuters` \n",
    "GROUP BY start_station_name, end_station_name \n",
    "ORDER BY total_trips DESC LIMIT 5"
   ]
  },
  {
   "cell_type": "code",
   "execution_count": 2,
   "metadata": {},
   "outputs": [
    {
     "data": {
      "text/html": [
       "<div>\n",
       "<style scoped>\n",
       "    .dataframe tbody tr th:only-of-type {\n",
       "        vertical-align: middle;\n",
       "    }\n",
       "\n",
       "    .dataframe tbody tr th {\n",
       "        vertical-align: top;\n",
       "    }\n",
       "\n",
       "    .dataframe thead th {\n",
       "        text-align: right;\n",
       "    }\n",
       "</style>\n",
       "<table border=\"1\" class=\"dataframe\">\n",
       "  <thead>\n",
       "    <tr style=\"text-align: right;\">\n",
       "      <th></th>\n",
       "      <th>start_station_name</th>\n",
       "      <th>end_station_name</th>\n",
       "      <th>total_trips</th>\n",
       "    </tr>\n",
       "  </thead>\n",
       "  <tbody>\n",
       "    <tr>\n",
       "      <th>0</th>\n",
       "      <td>2nd at Townsend</td>\n",
       "      <td>Harry Bridges Plaza (Ferry Building)</td>\n",
       "      <td>5163</td>\n",
       "    </tr>\n",
       "    <tr>\n",
       "      <th>1</th>\n",
       "      <td>Harry Bridges Plaza (Ferry Building)</td>\n",
       "      <td>2nd at Townsend</td>\n",
       "      <td>5121</td>\n",
       "    </tr>\n",
       "    <tr>\n",
       "      <th>2</th>\n",
       "      <td>Embarcadero at Sansome</td>\n",
       "      <td>Steuart at Market</td>\n",
       "      <td>4760</td>\n",
       "    </tr>\n",
       "    <tr>\n",
       "      <th>3</th>\n",
       "      <td>Embarcadero at Folsom</td>\n",
       "      <td>San Francisco Caltrain (Townsend at 4th)</td>\n",
       "      <td>4752</td>\n",
       "    </tr>\n",
       "    <tr>\n",
       "      <th>4</th>\n",
       "      <td>San Francisco Caltrain (Townsend at 4th)</td>\n",
       "      <td>Harry Bridges Plaza (Ferry Building)</td>\n",
       "      <td>4682</td>\n",
       "    </tr>\n",
       "  </tbody>\n",
       "</table>\n",
       "</div>"
      ],
      "text/plain": [
       "                         start_station_name  \\\n",
       "0                           2nd at Townsend   \n",
       "1      Harry Bridges Plaza (Ferry Building)   \n",
       "2                    Embarcadero at Sansome   \n",
       "3                     Embarcadero at Folsom   \n",
       "4  San Francisco Caltrain (Townsend at 4th)   \n",
       "\n",
       "                           end_station_name  total_trips  \n",
       "0      Harry Bridges Plaza (Ferry Building)         5163  \n",
       "1                           2nd at Townsend         5121  \n",
       "2                         Steuart at Market         4760  \n",
       "3  San Francisco Caltrain (Townsend at 4th)         4752  \n",
       "4      Harry Bridges Plaza (Ferry Building)         4682  "
      ]
     },
     "execution_count": 2,
     "metadata": {},
     "output_type": "execute_result"
    }
   ],
   "source": [
    "popular_commuter_trips"
   ]
  },
  {
   "cell_type": "markdown",
   "metadata": {},
   "source": [
    "The 5 most popular \"commuter trips\" are as follows (also displayed in the table above):\n",
    " -  2nd at Townsend to Harry Bridges Plaza (Ferry Building)\n",
    " -  Harry Bridges Plaza (Ferry Building) to 2nd at Townsend\n",
    " -  Embarcadero at SAnsome to Steuart at Market\n",
    " -  Embaracadero at Folsom to San Francisco Caltrain (Townsend at 4th)\n",
    " -  San Francisco Caltrain (Townsend at 4th) to Harry Bridges Plaza (Ferry Building)\n",
    "\n",
    "I used the following criteria to define what a commuter is:  \n",
    " -  The start station name cannot be the same as the end station name - my theory behind this was that if someone is commuting to work they are starting at one station and ending at a different one.\n",
    " -  The day of the week for the trip must be a weekday - my theory behind that was that the majority of people who are regularly commuting to work would be working on weekdays.\n",
    " -  The start hour for the trip must be in the 7:00, 8:00, 9:00, 16:00, 17:00, or 18:00 hours - I looked at the data to try and determine what morning and evening hours people would typically be commuting and found that trips in the 7:00, 8:00, and 9:00 hours accounted for about 33% of the data and trips in the 16:00, 17:00, and 18:00 hours accounted for about 32% of the data, which both seemed reasonable to me.\n",
    " -  The trip duration must be greater than or equal to 5 minutes and less than or equal to 1 hour - I figured that commuter trips should not be too long and this subset accounts for 86% of the data, which seemed reasonable to me.\n",
    "\n",
    "Based on this criteria, along with cleaning and filtering the data as described in this notebook in the \"Temporary Tables\" section, these 5 trips are the most popular among commuters because they have the most number of trips in this dataset. Please note that I consider a trip to be direction dependent, so even though the first two trips in the table above involve the same 2 stations, I consider this to be 2 different trips because for each trip a commuter would be traveling in a different direction."
   ]
  },
  {
   "cell_type": "markdown",
   "metadata": {},
   "source": [
    "### What are some promotions the company should offer?"
   ]
  },
  {
   "cell_type": "markdown",
   "metadata": {},
   "source": [
    "#### Promote subscription options to commuters"
   ]
  },
  {
   "cell_type": "code",
   "execution_count": 41,
   "metadata": {},
   "outputs": [],
   "source": [
    "%%bigquery commuter_customers\n",
    "\n",
    "SELECT start_station_name, COUNT(trip_id) as total_trips\n",
    "FROM `idyllic-analyst-264522.bikeshare_data.final_commuters` \n",
    "WHERE subscriber_type = 'Customer'\n",
    "GROUP BY start_station_name\n",
    "ORDER BY total_trips desc LIMIT 5"
   ]
  },
  {
   "cell_type": "code",
   "execution_count": 42,
   "metadata": {},
   "outputs": [
    {
     "data": {
      "text/html": [
       "<div>\n",
       "<style scoped>\n",
       "    .dataframe tbody tr th:only-of-type {\n",
       "        vertical-align: middle;\n",
       "    }\n",
       "\n",
       "    .dataframe tbody tr th {\n",
       "        vertical-align: top;\n",
       "    }\n",
       "\n",
       "    .dataframe thead th {\n",
       "        text-align: right;\n",
       "    }\n",
       "</style>\n",
       "<table border=\"1\" class=\"dataframe\">\n",
       "  <thead>\n",
       "    <tr style=\"text-align: right;\">\n",
       "      <th></th>\n",
       "      <th>start_station_name</th>\n",
       "      <th>total_trips</th>\n",
       "    </tr>\n",
       "  </thead>\n",
       "  <tbody>\n",
       "    <tr>\n",
       "      <th>0</th>\n",
       "      <td>Embarcadero at Sansome</td>\n",
       "      <td>2239</td>\n",
       "    </tr>\n",
       "    <tr>\n",
       "      <th>1</th>\n",
       "      <td>Harry Bridges Plaza (Ferry Building)</td>\n",
       "      <td>1729</td>\n",
       "    </tr>\n",
       "    <tr>\n",
       "      <th>2</th>\n",
       "      <td>San Francisco Caltrain (Townsend at 4th)</td>\n",
       "      <td>1469</td>\n",
       "    </tr>\n",
       "    <tr>\n",
       "      <th>3</th>\n",
       "      <td>Market at 4th</td>\n",
       "      <td>956</td>\n",
       "    </tr>\n",
       "    <tr>\n",
       "      <th>4</th>\n",
       "      <td>Steuart at Market</td>\n",
       "      <td>940</td>\n",
       "    </tr>\n",
       "  </tbody>\n",
       "</table>\n",
       "</div>"
      ],
      "text/plain": [
       "                         start_station_name  total_trips\n",
       "0                    Embarcadero at Sansome         2239\n",
       "1      Harry Bridges Plaza (Ferry Building)         1729\n",
       "2  San Francisco Caltrain (Townsend at 4th)         1469\n",
       "3                             Market at 4th          956\n",
       "4                         Steuart at Market          940"
      ]
     },
     "execution_count": 42,
     "metadata": {},
     "output_type": "execute_result"
    }
   ],
   "source": [
    "commuter_customers"
   ]
  },
  {
   "cell_type": "markdown",
   "metadata": {},
   "source": [
    "The table above shows the 5 stations people who are considered to be \"commuters\" and are customers (as opposed to subscribers) most frequently start their bike trips from. I recommend that Lyft Bay Wheels promote the subscriber options to commuters at these stations. Lyft Bay Wheels can promote the subscriber options by advertising in these stations and at businesses nearby these stations. "
   ]
  },
  {
   "cell_type": "markdown",
   "metadata": {},
   "source": [
    "#### Promote off-peak hours"
   ]
  },
  {
   "cell_type": "code",
   "execution_count": 43,
   "metadata": {},
   "outputs": [],
   "source": [
    "%%bigquery trips_by_hour\n",
    "\n",
    "SELECT start_hour, COUNT(trip_id) as total_trips\n",
    "FROM `idyllic-analyst-264522.bikeshare_data.filtered_data` \n",
    "WHERE subscriber_type = 'Customer'\n",
    "GROUP BY start_hour\n",
    "ORDER BY start_hour ASC"
   ]
  },
  {
   "cell_type": "code",
   "execution_count": 44,
   "metadata": {},
   "outputs": [
    {
     "data": {
      "text/plain": [
       "Text(0.5, 0, 'Start Hour')"
      ]
     },
     "execution_count": 44,
     "metadata": {},
     "output_type": "execute_result"
    },
    {
     "data": {
      "image/png": "[encoded data removed]",
      "text/plain": [
       "<Figure size 432x288 with 1 Axes>"
      ]
     },
     "metadata": {
      "needs_background": "light"
     },
     "output_type": "display_data"
    }
   ],
   "source": [
    "trips_by_hour.plot.bar(x = \"start_hour\", y = \"total_trips\", title = \"Total Customer Trips by Hour\")\n",
    "plt.xlabel(\"Start Hour\")"
   ]
  },
  {
   "cell_type": "markdown",
   "metadata": {},
   "source": [
    "The graph above shows the total number of bike trips started every hour by customers (as opposed to subscribers). Lyft Bay Wheels should offer promotions during non-peak hours. Specifically, they should offer 50% off single rides between the hours of 8:00 PM and 8:00 AM. "
   ]
  },
  {
   "cell_type": "markdown",
   "metadata": {},
   "source": [
    "#### Offer an additional single ride option"
   ]
  },
  {
   "cell_type": "code",
   "execution_count": 45,
   "metadata": {},
   "outputs": [],
   "source": [
    "%%bigquery single_rides\n",
    "\n",
    "SELECT duration_minutes\n",
    "FROM `idyllic-analyst-264522.bikeshare_data.filtered_data`\n",
    "WHERE subscriber_type = 'Customer'"
   ]
  },
  {
   "cell_type": "code",
   "execution_count": 46,
   "metadata": {},
   "outputs": [
    {
     "data": {
      "text/plain": [
       "Text(0, 0.5, 'Frequency')"
      ]
     },
     "execution_count": 46,
     "metadata": {},
     "output_type": "execute_result"
    },
    {
     "data": {
      "image/png": "[encoded data removed]",
      "text/plain": [
       "<Figure size 432x288 with 1 Axes>"
      ]
     },
     "metadata": {
      "needs_background": "light"
     },
     "output_type": "display_data"
    }
   ],
   "source": [
    "single_rides.hist(bins=10)\n",
    "plt.title(\"Customer Trip Duration\")\n",
    "plt.xlabel(\"Trip Duration (in minutes)\")\n",
    "plt.ylabel(\"Frequency\")"
   ]
  },
  {
   "cell_type": "markdown",
   "metadata": {},
   "source": [
    "The histogram above shows that the majority of rides taken by customers (as opposed to subscribers) are actually under 20 minutes in duration. The current price for a single ride is 2 dollars for a ride that can last up to 30 minutes. I think it would be beneficial to offer an additional single ride promotion that costs 1 dollar for a single ride that can last up to 15 minutes.  "
   ]
  },
  {
   "cell_type": "markdown",
   "metadata": {},
   "source": [
    "#### Modify the monthly/annual subscription options"
   ]
  },
  {
   "cell_type": "code",
   "execution_count": 49,
   "metadata": {},
   "outputs": [],
   "source": [
    "%%bigquery subscription_rides\n",
    "\n",
    "SELECT duration_minutes \n",
    "FROM `idyllic-analyst-264522.bikeshare_data.filtered_data`\n",
    "WHERE subscriber_type = 'Subscriber'"
   ]
  },
  {
   "cell_type": "code",
   "execution_count": 50,
   "metadata": {},
   "outputs": [
    {
     "data": {
      "text/plain": [
       "Text(0, 0.5, 'Frequency')"
      ]
     },
     "execution_count": 50,
     "metadata": {},
     "output_type": "execute_result"
    },
    {
     "data": {
      "image/png": "[encoded data removed]",
      "text/plain": [
       "<Figure size 432x288 with 1 Axes>"
      ]
     },
     "metadata": {
      "needs_background": "light"
     },
     "output_type": "display_data"
    }
   ],
   "source": [
    "subscription_rides.hist(bins=10)\n",
    "plt.title(\"Subscriber Trip Duration\")\n",
    "plt.xlabel(\"Trip Duration (in minutes)\")\n",
    "plt.ylabel(\"Frequency\")"
   ]
  },
  {
   "cell_type": "markdown",
   "metadata": {},
   "source": [
    "The histogram above shows that the majority of rides taken by subscribers are actually under 20 minutes in duration. The current subscription packages allow for rides up to 45 minutes. It appears from the histogram above that being able to take trips up to 45 minutes long does not actually appeal to many of the subscribers. I think it would be beneficial to reduce the prices of the subscriptions and allow for rides only up to 30 minutes long."
   ]
  },
  {
   "cell_type": "markdown",
   "metadata": {},
   "source": [
    "#### Offer discount pricing where bike availability is high"
   ]
  },
  {
   "cell_type": "code",
   "execution_count": 28,
   "metadata": {},
   "outputs": [],
   "source": [
    "%%bigquery bikes_available\n",
    "\n",
    "SELECT stations.name as station_name, bikes.average as avg_bikes_available\n",
    "FROM `idyllic-analyst-264522.bikeshare_data.avg_bikes_available` bikes\n",
    "INNER JOIN `bigquery-public-data.san_francisco.bikeshare_stations` stations\n",
    "ON bikes.station_id = stations.station_id\n",
    "ORDER BY bikes.average DESC LIMIT 5"
   ]
  },
  {
   "cell_type": "code",
   "execution_count": 29,
   "metadata": {},
   "outputs": [
    {
     "data": {
      "text/html": [
       "<div>\n",
       "<style scoped>\n",
       "    .dataframe tbody tr th:only-of-type {\n",
       "        vertical-align: middle;\n",
       "    }\n",
       "\n",
       "    .dataframe tbody tr th {\n",
       "        vertical-align: top;\n",
       "    }\n",
       "\n",
       "    .dataframe thead th {\n",
       "        text-align: right;\n",
       "    }\n",
       "</style>\n",
       "<table border=\"1\" class=\"dataframe\">\n",
       "  <thead>\n",
       "    <tr style=\"text-align: right;\">\n",
       "      <th></th>\n",
       "      <th>station_name</th>\n",
       "      <th>avg_bikes_available</th>\n",
       "    </tr>\n",
       "  </thead>\n",
       "  <tbody>\n",
       "    <tr>\n",
       "      <th>0</th>\n",
       "      <td>5th St at Folsom St</td>\n",
       "      <td>16.644235</td>\n",
       "    </tr>\n",
       "    <tr>\n",
       "      <th>1</th>\n",
       "      <td>2nd at Townsend</td>\n",
       "      <td>13.401061</td>\n",
       "    </tr>\n",
       "    <tr>\n",
       "      <th>2</th>\n",
       "      <td>Harry Bridges Plaza (Ferry Building)</td>\n",
       "      <td>13.335827</td>\n",
       "    </tr>\n",
       "    <tr>\n",
       "      <th>3</th>\n",
       "      <td>Market at Sansome</td>\n",
       "      <td>12.728522</td>\n",
       "    </tr>\n",
       "    <tr>\n",
       "      <th>4</th>\n",
       "      <td>San Jose Diridon Caltrain Station</td>\n",
       "      <td>12.680102</td>\n",
       "    </tr>\n",
       "  </tbody>\n",
       "</table>\n",
       "</div>"
      ],
      "text/plain": [
       "                           station_name  avg_bikes_available\n",
       "0                   5th St at Folsom St            16.644235\n",
       "1                       2nd at Townsend            13.401061\n",
       "2  Harry Bridges Plaza (Ferry Building)            13.335827\n",
       "3                     Market at Sansome            12.728522\n",
       "4     San Jose Diridon Caltrain Station            12.680102"
      ]
     },
     "execution_count": 29,
     "metadata": {},
     "output_type": "execute_result"
    }
   ],
   "source": [
    "bikes_available"
   ]
  },
  {
   "cell_type": "markdown",
   "metadata": {},
   "source": [
    "The table above displays the 5 stations that on average have the highest number of bikes available. Lyft Bay Wheels should offer something that is like the opposite of surge pricing. I would suggest offerring discount pricing at these stations when the number of bikes available is high."
   ]
  },
  {
   "cell_type": "markdown",
   "metadata": {},
   "source": [
    "#### Advertise subscriptions options at stations that have low numbers of subscribers"
   ]
  },
  {
   "cell_type": "code",
   "execution_count": 36,
   "metadata": {},
   "outputs": [],
   "source": [
    "%%bigquery customer_difference\n",
    "\n",
    "SELECT customers.start_station_name, customers.customer, customers.count_of_customers, subscribers.subscriber, subscribers.count_of_subscribers, (count_of_subscribers - count_of_customers) as difference\n",
    "FROM `idyllic-analyst-264522.bikeshare_data.customers_by_station` customers\n",
    "INNER JOIN `idyllic-analyst-264522.bikeshare_data.subscribers_by_station` subscribers\n",
    "ON customers.start_station_name = subscribers.start_station_name\n",
    "ORDER BY difference DESC LIMIT 5"
   ]
  },
  {
   "cell_type": "code",
   "execution_count": 37,
   "metadata": {},
   "outputs": [
    {
     "data": {
      "text/html": [
       "<div>\n",
       "<style scoped>\n",
       "    .dataframe tbody tr th:only-of-type {\n",
       "        vertical-align: middle;\n",
       "    }\n",
       "\n",
       "    .dataframe tbody tr th {\n",
       "        vertical-align: top;\n",
       "    }\n",
       "\n",
       "    .dataframe thead th {\n",
       "        text-align: right;\n",
       "    }\n",
       "</style>\n",
       "<table border=\"1\" class=\"dataframe\">\n",
       "  <thead>\n",
       "    <tr style=\"text-align: right;\">\n",
       "      <th></th>\n",
       "      <th>start_station_name</th>\n",
       "      <th>customer</th>\n",
       "      <th>count_of_customers</th>\n",
       "      <th>subscriber</th>\n",
       "      <th>count_of_subscribers</th>\n",
       "      <th>difference</th>\n",
       "    </tr>\n",
       "  </thead>\n",
       "  <tbody>\n",
       "    <tr>\n",
       "      <th>0</th>\n",
       "      <td>San Francisco Caltrain (Townsend at 4th)</td>\n",
       "      <td>Customer</td>\n",
       "      <td>3926</td>\n",
       "      <td>Subscriber</td>\n",
       "      <td>68264</td>\n",
       "      <td>64338</td>\n",
       "    </tr>\n",
       "    <tr>\n",
       "      <th>1</th>\n",
       "      <td>San Francisco Caltrain 2 (330 Townsend)</td>\n",
       "      <td>Customer</td>\n",
       "      <td>2223</td>\n",
       "      <td>Subscriber</td>\n",
       "      <td>53610</td>\n",
       "      <td>51387</td>\n",
       "    </tr>\n",
       "    <tr>\n",
       "      <th>2</th>\n",
       "      <td>Temporary Transbay Terminal (Howard at Beale)</td>\n",
       "      <td>Customer</td>\n",
       "      <td>1186</td>\n",
       "      <td>Subscriber</td>\n",
       "      <td>37828</td>\n",
       "      <td>36642</td>\n",
       "    </tr>\n",
       "    <tr>\n",
       "      <th>3</th>\n",
       "      <td>2nd at Townsend</td>\n",
       "      <td>Customer</td>\n",
       "      <td>4110</td>\n",
       "      <td>Subscriber</td>\n",
       "      <td>35441</td>\n",
       "      <td>31331</td>\n",
       "    </tr>\n",
       "    <tr>\n",
       "      <th>4</th>\n",
       "      <td>Townsend at 7th</td>\n",
       "      <td>Customer</td>\n",
       "      <td>1987</td>\n",
       "      <td>Subscriber</td>\n",
       "      <td>32736</td>\n",
       "      <td>30749</td>\n",
       "    </tr>\n",
       "  </tbody>\n",
       "</table>\n",
       "</div>"
      ],
      "text/plain": [
       "                              start_station_name  customer  \\\n",
       "0       San Francisco Caltrain (Townsend at 4th)  Customer   \n",
       "1        San Francisco Caltrain 2 (330 Townsend)  Customer   \n",
       "2  Temporary Transbay Terminal (Howard at Beale)  Customer   \n",
       "3                                2nd at Townsend  Customer   \n",
       "4                                Townsend at 7th  Customer   \n",
       "\n",
       "   count_of_customers  subscriber  count_of_subscribers  difference  \n",
       "0                3926  Subscriber                 68264       64338  \n",
       "1                2223  Subscriber                 53610       51387  \n",
       "2                1186  Subscriber                 37828       36642  \n",
       "3                4110  Subscriber                 35441       31331  \n",
       "4                1987  Subscriber                 32736       30749  "
      ]
     },
     "execution_count": 37,
     "metadata": {},
     "output_type": "execute_result"
    }
   ],
   "source": [
    "customer_difference"
   ]
  },
  {
   "cell_type": "markdown",
   "metadata": {},
   "source": [
    "The table above shows the 5 stations that have the largest difference between the number of trips started by subscribers versus customers. Lyft Bay Wheels should advertise subscription options at these stations in order to convert more customers to subscribers."
   ]
  },
  {
   "cell_type": "markdown",
   "metadata": {},
   "source": [
    "### Temporary Tables Created in Order to Perform the Analysis Above"
   ]
  },
  {
   "cell_type": "markdown",
   "metadata": {},
   "source": [
    "#### \"transformed_columns\""
   ]
  },
  {
   "cell_type": "markdown",
   "metadata": {},
   "source": [
    "I created a temporary table called \"transformed_columns\". This table only included the columns I considered relevant from the bigquery-public-data.san_francisco.bikeshare_trips table. I eliminated the start_station_id, end_station_id, bike_number, and zip_code columns. Additionally, I added columns to make the trip duration easier to work with. I added columns for the trip duration in minutes, hours (rounded), and hours (to the tenths place). I also added columns that showed the day of the week the bike trip occurred on as an integer and as the name of the day.  I also added a column that shows the hour in which the bike trip began. I used the following SQL query to create this temporary table:\n",
    "\n",
    "SELECT trip_id, duration_sec, start_date, start_station_name, end_date, end_station_name, subscriber_type,\n",
    "\n",
    "    CAST(ROUND(duration_sec / 60.0) AS INT64) AS duration_minutes,\n",
    "    CAST(ROUND(duration_sec / 3600.0) AS INT64) AS duration_hours_rounded,\n",
    "    ROUND(duration_sec / 3600.0, 1) AS duration_hours_tenths,\n",
    "    EXTRACT(DAYOFWEEK FROM start_date) AS dow_int,\n",
    "    CASE EXTRACT(DAYOFWEEK FROM start_date)\n",
    "        WHEN 1 THEN \"Sunday\"\n",
    "        WHEN 2 THEN \"Monday\"\n",
    "        WHEN 3 THEN \"Tuesday\"\n",
    "        WHEN 4 THEN \"Wednesday\"\n",
    "        WHEN 5 THEN \"Thursday\"\n",
    "        WHEN 6 THEN \"Friday\"\n",
    "        WHEN 7 THEN \"Saturday\"\n",
    "     END AS dow_str,\n",
    "    CASE\n",
    "        WHEN EXTRACT(DAYOFWEEK FROM start_date) IN (1, 7) THEN \"Weekend\"\n",
    "        ELSE \"Weekday\"\n",
    "        END AS dow_weekday,\n",
    "    EXTRACT(HOUR FROM start_date) AS start_hour,\n",
    "FROM `bigquery-public-data.san_francisco.bikeshare_trips`"
   ]
  },
  {
   "cell_type": "markdown",
   "metadata": {},
   "source": [
    "#### \"cleaned_data\""
   ]
  },
  {
   "cell_type": "markdown",
   "metadata": {},
   "source": [
    "I analyzed my \"transformed_columns\" temporary table and did not find any blank or null data. I then started inspecting the station names and compared the station names in the bikeshare_trips table to the station names in the bikeshare_stations table. I found that there were some station names that were misspelled. In order to correct this I first duplicated the \"transformed_columns\" temporary table and then ran several SQL queries to correct the misspelled station names. I then called this new temporary table, \"cleaned_data\". I used the following SQL queries:\n",
    "\n",
    "UPDATE `idyllic-analyst-264522.bikeshare_data.cleaned_data`  \n",
    "SET start_station_name ='5th S. at E. San Salvador St'  \n",
    "WHERE start_station_name ='5th St at E. San Salvador St'\n",
    "\n",
    "UPDATE `idyllic-analyst-264522.bikeshare_data.cleaned_data`  \n",
    "SET start_station_name ='Mezes Park'  \n",
    "WHERE start_station_name ='Mezes'\n",
    "\n",
    "UPDATE `idyllic-analyst-264522.bikeshare_data.cleaned_data`  \n",
    "SET start_station_name ='Post at Kearney'  \n",
    "WHERE start_station_name ='Post at Kearny'\n",
    "\n",
    "UPDATE `idyllic-analyst-264522.bikeshare_data.cleaned_data`  \n",
    "SET start_station_name ='Washington at Kearney'  \n",
    "WHERE start_station_name ='Washington at Kearny'\n",
    "\n",
    "UPDATE `idyllic-analyst-264522.bikeshare_data.cleaned_data`  \n",
    "SET end_station_name ='5th S. at E. San Salvador St'  \n",
    "WHERE end_station_name ='5th St at E. San Salvador St'\n",
    "\n",
    "UPDATE `idyllic-analyst-264522.bikeshare_data.cleaned_data`  \n",
    "SET end_station_name ='Mezes Park'  \n",
    "WHERE end_station_name ='Mezes'\n",
    "\n",
    "UPDATE `idyllic-analyst-264522.bikeshare_data.cleaned_data`  \n",
    "SET end_station_name ='Post at Kearney'  \n",
    "WHERE end_station_name ='Post at Kearny'\n",
    "\n",
    "UPDATE `idyllic-analyst-264522.bikeshare_data.cleaned_data`  \n",
    "SET end_station_name ='Washington at Kearney'  \n",
    "WHERE end_station_name ='Washington at Kearny'"
   ]
  },
  {
   "cell_type": "markdown",
   "metadata": {},
   "source": [
    "#### \"filtered_data\""
   ]
  },
  {
   "cell_type": "markdown",
   "metadata": {},
   "source": [
    "I then analyzed the trip duration data to ensure it included only relevant trip durations. I found that 98% of the data had a trip duration in hours rounded that was less than or equal to one hour, so I eliminated any rows of data that had a longer trip duration. I called this temporary table \"filtered_data\" and used the following SQL query to create it:\n",
    "\n",
    "SELECT *  \n",
    "FROM `idyllic-analyst-264522.bikeshare_data.cleaned_data`  \n",
    "WHERE duration_hours_rounded <= 1"
   ]
  },
  {
   "cell_type": "markdown",
   "metadata": {},
   "source": [
    "#### \"final_commuters\""
   ]
  },
  {
   "cell_type": "markdown",
   "metadata": {},
   "source": [
    "I then analyzed the data to determine the criteria for what a commuter trip is. I used the following criteria:  \n",
    " -  The start station name cannot be the same as the end station name - my theory behind this was that if someone is commuting to work they are starting at one station and ending at a different one.\n",
    " -  The day of the week for the trip must be a weekday - my theory behind that was that the majority of people who are regularly commuting to work would be working on weekdays.\n",
    " -  The start hour for the trip must be in the 7:00, 8:00, 9:00, 16:00, 17:00, or 18:00 hours - I looked at the data to try and determine what morning and evening hours people would typically be commuting and found that trips in the 7:00, 8:00, and 9:00 hours accounted for about 33% of the data and trips in the 16:00, 17:00, and 18:00 hours accounted for about 32% of the data, which both seemed reasonable to me.\n",
    " -  The trip duration must be greater than or equal to 5 minutes and less than or equal to 1 hour - I figured that commuter trips should not be too long and this subset account for 86% of the data, which seemed reasonable to me.\n",
    "I called this temporary table \"final_commuters\" and used the following SQL query to create it:\n",
    "    \n",
    "SELECT *  \n",
    "FROM `idyllic-analyst-264522.bikeshare_data.filtered_data`  \n",
    "WHERE start_station_name <> end_station_name  \n",
    "AND dow_weekday = 'Weekday'  \n",
    "AND start_hour in (7, 8, 9, 16, 17, 18)  \n",
    "AND duration_hours_tenths <= 1   \n",
    "AND duration_minutes >= 5"
   ]
  },
  {
   "cell_type": "markdown",
   "metadata": {},
   "source": [
    "#### \"avg_bikes_available\""
   ]
  },
  {
   "cell_type": "markdown",
   "metadata": {},
   "source": [
    "I created a temporary table from the \"bikeshare_status\" table that only contained the station id and the average number of bikes available. I used the following SQL query to create it:"
   ]
  },
  {
   "cell_type": "markdown",
   "metadata": {},
   "source": [
    "SELECT station_id, AVG(bikes_available)  \n",
    "FROM `bigquery-public-data.san_francisco.bikeshare_status`  \n",
    "GROUP BY station_id"
   ]
  },
  {
   "cell_type": "markdown",
   "metadata": {},
   "source": [
    "#### \"customers_by_station\""
   ]
  },
  {
   "cell_type": "markdown",
   "metadata": {},
   "source": [
    "I created a temporary table from my \"filtered_data\" temporary table that only contains the start station name and the number of trips started by customers. I used the following SQL query to create this table:\n",
    "\n",
    "SELECT start_station_name, subscriber_type as customer, count(trip_id) as count_of_customers  \n",
    "FROM `idyllic-analyst-264522.bikeshare_data.filtered_data`  \n",
    "WHERE subscriber_type = 'Customer'  \n",
    "GROUP BY start_station_name, subscriber_type"
   ]
  },
  {
   "cell_type": "markdown",
   "metadata": {},
   "source": [
    "#### \"subscribers_by_station\""
   ]
  },
  {
   "cell_type": "markdown",
   "metadata": {},
   "source": [
    "I created a temporary table from my \"filtered_data\" temporary table that only contains the start station name and the number of trips started by subscribers. I used the following SQL query to create this table:\n",
    "\n",
    "SELECT start_station_name, subscriber_type as subscriber, count(trip_id) as count_of_subscribers  \n",
    "FROM `idyllic-analyst-264522.bikeshare_data.filtered_data`  \n",
    "WHERE subscriber_type = 'Subscriber'  \n",
    "GROUP BY start_station_name, subscriber_type"
   ]
  }
 ],
 "metadata": {
  "kernelspec": {
   "display_name": "Python 3",
   "language": "python",
   "name": "python3"
  },
  "language_info": {
   "codemirror_mode": {
    "name": "ipython",
    "version": 3
   },
   "file_extension": ".py",
   "mimetype": "text/x-python",
   "name": "python",
   "nbconvert_exporter": "python",
   "pygments_lexer": "ipython3",
   "version": "3.5.3"
  }
 },
 "nbformat": 4,
 "nbformat_minor": 4
}
